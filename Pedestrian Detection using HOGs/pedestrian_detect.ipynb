{
 "cells": [
  {
   "cell_type": "code",
   "execution_count": 4,
   "metadata": {},
   "outputs": [],
   "source": [
    "import cv2\n",
    "from imutils.object_detection import non_max_suppression\n",
    "from imutils import resize\n",
    "import numpy as np"
   ]
  },
  {
   "cell_type": "markdown",
   "metadata": {},
   "source": [
    "Code performs pedestrian detection using HOG short for Histogram for Gradients. HOGs are great feature detectors.\n",
    "cv2_tools for tagging the detected objects\n",
    "imutils: collection of functions for image processing\n",
    "numpy for python visualization, it includes plotly, matplotlib, bokeh, seaborn etc."
   ]
  },
  {
   "cell_type": "code",
   "execution_count": 5,
   "metadata": {},
   "outputs": [],
   "source": [
    "hog = cv2.HOGDescriptor()\n",
    "hog.setSVMDetector(cv2.HOGDescriptor_getDefaultPeopleDetector())\n"
   ]
  },
  {
   "cell_type": "markdown",
   "metadata": {},
   "source": [
    "Making a HogDescriptor object.\n",
    "Importing the default people detector classifier from the HOG library - we are importing a pre trained model for Pedestrian Detection using HOG."
   ]
  },
  {
   "cell_type": "code",
   "execution_count": 6,
   "metadata": {},
   "outputs": [],
   "source": [
    "#Read and resize the image.\n",
    "\n",
    "img = cv2.imread('city.jpg')\n",
    "img = resize(img, height=500)\n",
    "\n",
    "rects, weights = hog.detectMultiScale(img, winStride=(4,4), padding=(8,8), scale=1.05)\n",
    "copy = img.copy()\n"
   ]
  },
  {
   "cell_type": "code",
   "execution_count": 7,
   "metadata": {},
   "outputs": [],
   "source": [
    "#detection begins\n",
    "for x,y,w,h in rects:\n",
    "    cv2.rectangle(copy, (x, y), (x+w, y+h),(0,0,255),2)\n",
    "    \n",
    "cv2.imshow(\"before suppresion\", copy)\n",
    "cv2.waitKey(0)\n",
    "\n",
    "r = np.array([[x,y,x+w,y+h] for x,y,w,h in rects])\n",
    "pick = non_max_suppression(r,probs=None, overlapThresh=0.65)\n",
    "\n",
    "for xa, ya, xb, yb in pick:\n",
    "    cv2.rectangle(img, (xa,ya), (xb,yb), (0,255,0), 2)\n",
    "\n",
    "cv2.imshow(\"after suppresion\", img)\n",
    "cv2.waitKey(0)\n",
    "\n",
    "cv2.destroyAllWindows()    "
   ]
  },
  {
   "cell_type": "markdown",
   "metadata": {},
   "source": [
    "Keeping a copy of original image for future use.\n",
    "Drawing rectangles around persons(if found any).\n",
    "Showing results."
   ]
  }
 ],
 "metadata": {
  "kernelspec": {
   "display_name": "Python 3.10.6 64-bit",
   "language": "python",
   "name": "python3"
  },
  "language_info": {
   "codemirror_mode": {
    "name": "ipython",
    "version": 3
   },
   "file_extension": ".py",
   "mimetype": "text/x-python",
   "name": "python",
   "nbconvert_exporter": "python",
   "pygments_lexer": "ipython3",
   "version": "3.10.6"
  },
  "orig_nbformat": 4,
  "vscode": {
   "interpreter": {
    "hash": "fbff8929bed84816110c65a1cee0170a3f504b2a1c1f18951f680609ccde3105"
   }
  }
 },
 "nbformat": 4,
 "nbformat_minor": 2
}
